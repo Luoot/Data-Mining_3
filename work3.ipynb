{
 "cells": [
  {
   "cell_type": "markdown",
   "id": "21af0678",
   "metadata": {},
   "source": [
    "互评作业三： 基于 K-means 的文本聚类\n",
    "\n",
    "任务：本作业将通过 K-means 算法对 20 Newsgroups 数据集中的文本数据进行聚类。首先是数据的预处理，提取文本特征；然后将数据转换为特征向量，使用 K-means 算法进行聚类；最后对聚类结果进行评估和可视化分析。\n",
    "\n",
    "数据集：20 Newsgroups\n",
    "\n",
    "1. 数据预处理：去除停用词、数字、符号等，提取文本特征。"
   ]
  },
  {
   "cell_type": "code",
   "execution_count": 14,
   "id": "707b9449",
   "metadata": {},
   "outputs": [],
   "source": [
    "from sklearn.datasets import fetch_20newsgroups\n",
    "from sklearn.feature_extraction.text import TfidfVectorizer\n",
    "from sklearn.feature_extraction.text import CountVectorizer\n",
    "import re\n",
    "\n",
    "# 加载数据集，20 Newsgroups 可以直接从fetch_20newsgroups中加载\n",
    "newsgroups_train = fetch_20newsgroups(subset='train', remove=('headers', 'footers', 'quotes'))\n",
    "\n",
    "# 去除停用词、数字、符号等\n",
    "def preprocessor(text):\n",
    "    text = re.sub('[^a-zA-Z0-9]', ' ', text)\n",
    "    return text"
   ]
  },
  {
   "cell_type": "markdown",
   "id": "2cbc356a",
   "metadata": {},
   "source": [
    "2. 特征向量化：将预处理后的文本使用 TF-IDF 方法进行向量化。"
   ]
  },
  {
   "cell_type": "code",
   "execution_count": 15,
   "id": "beb5cd8b",
   "metadata": {},
   "outputs": [
    {
     "name": "stdout",
     "output_type": "stream",
     "text": [
      "(11314, 101322)\n",
      "66.802987449178\n"
     ]
    }
   ],
   "source": [
    "#使用TF-IDF进行向量化\n",
    "vectorizer = CountVectorizer(stop_words='english')\n",
    "X = vectorizer.fit_transform(newsgroups_train.data)\n",
    "print(X.shape)\n",
    "print(X.nnz / float(X.shape[0]))"
   ]
  },
  {
   "cell_type": "markdown",
   "id": "ecdbb37b",
   "metadata": {},
   "source": [
    "从上述输出结果可看出，提取的TF-IDF 向量有66个非零特征。\n",
    "\n",
    "3. K-means 模型训练：根据设定的 K 值，构建 K-means 模型，并对向量化的文本数据进行聚类。"
   ]
  },
  {
   "cell_type": "code",
   "execution_count": 6,
   "id": "c8349b59",
   "metadata": {},
   "outputs": [],
   "source": [
    "import numpy as np\n",
    "from sklearn.cluster import KMeans\n",
    "\n",
    "# 建立文本聚类模型\n",
    "k = 20\n",
    "model = KMeans(n_clusters=k, init='k-means++', max_iter=100, n_init=1, verbose=0)\n",
    "\n",
    "# 训练模型\n",
    "kmeans = model.fit(X)\n",
    "\n",
    "# 聚类结果展示\n",
    "order_centroids = kmeans.cluster_centers_.argsort()[:, ::-1]\n",
    "terms = vectorizer.get_feature_names_out()\n",
    "\n",
    "for i in range(k):\n",
    "    print(\"Cluster %d:\" % (i+1))\n",
    "    for ind in order_centroids[i, :10]:\n",
    "        print(' %s' % terms[ind])"
   ]
  },
  {
   "cell_type": "markdown",
   "id": "fafe5752",
   "metadata": {},
   "source": [
    "4. 聚类结果分析：评估聚类结果，可使用轮廓系数、CH 指数等方法。"
   ]
  },
  {
   "cell_type": "code",
   "execution_count": 17,
   "id": "c79b6624",
   "metadata": {},
   "outputs": [
    {
     "name": "stdout",
     "output_type": "stream",
     "text": [
      "Silhouette Coefficient: 0.902\n"
     ]
    }
   ],
   "source": [
    "#计算轮廓系数分析聚类结果\n",
    "from sklearn.metrics import silhouette_score\n",
    "lables = kmeans.fit_predict(X)\n",
    "score = silhouette_score(X, lables)\n",
    "print(\"Silhouette Coefficient: %0.3f\" % score)"
   ]
  },
  {
   "cell_type": "markdown",
   "id": "0e23ddc0",
   "metadata": {},
   "source": [
    "轮廓系数是一种用于评估聚类结果的指标。它可以衡量聚类结果的紧密度和分离度，值越接近1表示聚类效果越好,上述结果表示当前聚类结果的轮廓系数为0.902，聚类效果较好。"
   ]
  },
  {
   "cell_type": "markdown",
   "id": "ef86b4df",
   "metadata": {},
   "source": [
    "5. 可视化：使用降维方法（如 PCA 或 t-SNE）将高维数据降维至 2 D 或 3 D，然后进行可视化，观察聚类效果。"
   ]
  },
  {
   "cell_type": "code",
   "execution_count": 1,
   "id": "d66751f2",
   "metadata": {},
   "outputs": [],
   "source": [
    "#使用PCA降维对数据处理，将高维数据降低至二维\n",
    "from sklearn.decomposition import PCA\n",
    "import matplotlib.pyplot as plt\n",
    "pca = PCA(n_components=2)\n",
    "X_pca = pca.fit_transform(X.toarray())\n",
    "plt.scatter(X_pca[:, 0], X_pca[:, 1], c=labels)\n",
    "plt.show()"
   ]
  }
 ],
 "metadata": {
  "kernelspec": {
   "display_name": "Python 3 (ipykernel)",
   "language": "python",
   "name": "python3"
  },
  "language_info": {
   "codemirror_mode": {
    "name": "ipython",
    "version": 3
   },
   "file_extension": ".py",
   "mimetype": "text/x-python",
   "name": "python",
   "nbconvert_exporter": "python",
   "pygments_lexer": "ipython3",
   "version": "3.11.2"
  }
 },
 "nbformat": 4,
 "nbformat_minor": 5
}
